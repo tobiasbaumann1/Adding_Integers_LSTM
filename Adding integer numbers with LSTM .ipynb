{
 "cells": [
  {
   "cell_type": "code",
   "execution_count": 1,
   "metadata": {
    "collapsed": true
   },
   "outputs": [],
   "source": [
    "import tensorflow as tf\n",
    "import numpy as np\n",
    "\n",
    "from random import seed\n",
    "from random import randint\n",
    "from numpy import array"
   ]
  },
  {
   "cell_type": "code",
   "execution_count": 2,
   "metadata": {
    "collapsed": true
   },
   "outputs": [],
   "source": [
    "#Generate examples of random integers and their sum\n",
    "def random_sum_pairs(n_examples, input_number_length, largest, zero_digits = 0):\n",
    "    X, y = list(), list()\n",
    "    for i in range(n_examples):\n",
    "        first_number_list = [0]*zero_digits+[randint(0,9) for _ in range(input_number_length-zero_digits)]\n",
    "        second_number_list = [0]*zero_digits+[randint(0,9) for _ in range(input_number_length-zero_digits)]\n",
    "        in_pattern = first_number_list+second_number_list\n",
    "        #in_pattern.insert(input_number_length,\"+\") leads to problems later on because string cannot be converted to float\n",
    "        out_pattern = digitListToInt(first_number_list)+digitListToInt(second_number_list)\n",
    "        X.append(in_pattern)\n",
    "        y.append(out_pattern)\n",
    "    # format to the right dimensions\n",
    "    X,y = array(X), array(y)\n",
    "    l  = []\n",
    "    for i in X:\n",
    "        temp_list = []\n",
    "        for j in i:\n",
    "            temp_list.append([j])\n",
    "        l.append(np.array(temp_list))\n",
    "    X = l\n",
    "    \n",
    "    l = []\n",
    "    for i in y:\n",
    "        temp_list = ([0]*(2*largest+1))\n",
    "        temp_list[i]=1\n",
    "        l.append(temp_list)\n",
    "    y = l\n",
    "    return X, y\n",
    "\n",
    "def digitListToInt(l):\n",
    "    return sum([l[-i-1]*10**i for i in range(len(l))])"
   ]
  },
  {
   "cell_type": "code",
   "execution_count": 3,
   "metadata": {
    "collapsed": true,
    "scrolled": true
   },
   "outputs": [],
   "source": [
    "NUM_TRAIN_EXAMPLES = 10**4\n",
    "NUM_TEST_EXAMPLES = 10**4\n",
    "INPUT_NUMBER_LENGTH = 2\n",
    "SEQUENCE_LENGTH = INPUT_NUMBER_LENGTH * 2\n",
    "LARGEST_NUMBER = 10**INPUT_NUMBER_LENGTH - 1\n",
    "LARGEST_SUM = 2 * LARGEST_NUMBER\n",
    "#Generate test and training data for direct learning\n",
    "test_input, test_output = random_sum_pairs(NUM_TEST_EXAMPLES,INPUT_NUMBER_LENGTH,LARGEST_NUMBER)\n",
    "train_input, train_output = random_sum_pairs(NUM_TRAIN_EXAMPLES,INPUT_NUMBER_LENGTH,LARGEST_NUMBER)\n",
    "#Generate test and training data for curriculum learning\n",
    "curriculum_input_list, curriculum_output_list = [],[]\n",
    "curriculum_test_input_list, curriculum_test_output_list = [],[]\n",
    "for i in range(1,INPUT_NUMBER_LENGTH):\n",
    "    curriculum_input, curriculum_output = random_sum_pairs(NUM_TRAIN_EXAMPLES,INPUT_NUMBER_LENGTH,LARGEST_NUMBER,i)    \n",
    "    curriculum_test_input, curriculum_test_output = random_sum_pairs(NUM_TEST_EXAMPLES,INPUT_NUMBER_LENGTH,LARGEST_NUMBER,i)\n",
    "    curriculum_input_list.append(curriculum_input)\n",
    "    curriculum_output_list.append(curriculum_output)\n",
    "    curriculum_test_input_list.append(curriculum_test_input)\n",
    "    curriculum_test_output_list.append(curriculum_test_output)\n",
    "curriculum_input_list.reverse()\n",
    "curriculum_output_list.reverse()\n",
    "curriculum_test_input_list.reverse()\n",
    "curriculum_test_output_list.reverse()\n",
    "curriculum_input_list.append(train_input)\n",
    "curriculum_output_list.append(train_output)\n",
    "curriculum_test_input_list.append(test_input)\n",
    "curriculum_test_output_list.append(test_output)"
   ]
  },
  {
   "cell_type": "code",
   "execution_count": 4,
   "metadata": {
    "collapsed": true
   },
   "outputs": [],
   "source": [
    "NUM_HIDDEN = 256\n",
    "NUM_LAYERS = 1\n",
    "\n",
    "#Define neural net\n",
    "data = tf.placeholder(tf.float32, [None,SEQUENCE_LENGTH,1])\n",
    "target = tf.placeholder(tf.float32, [None,LARGEST_SUM+1])\n",
    "\n",
    "def RNN(weights, biases):\n",
    "    #cell = tf.nn.rnn_cell.LSTMCell(NUM_HIDDEN,state_is_tuple=True)\n",
    "    stacked_lstm = tf.contrib.rnn.MultiRNNCell([tf.contrib.rnn.BasicLSTMCell(NUM_HIDDEN) for _ in range(NUM_LAYERS)])\n",
    "    #cell = tf.nn.rnn_cell.MultiRNNCell([cell] * NUM_LAYERS, state_is_tuple=True)\n",
    "    val, state = tf.nn.dynamic_rnn(stacked_lstm, data, dtype=tf.float32)\n",
    "\n",
    "    val = tf.transpose(val, [1, 0, 2]) #swap batch and sequence dimension\n",
    "    last = tf.gather(val, int(val.get_shape()[0]) - 1) #get only last output\n",
    "\n",
    "    return tf.nn.softmax(tf.matmul(last, weights) + biases)"
   ]
  },
  {
   "cell_type": "code",
   "execution_count": 5,
   "metadata": {},
   "outputs": [
    {
     "name": "stderr",
     "output_type": "stream",
     "text": [
      "C:\\Users\\Tobias\\Anaconda3\\envs\\tensorflow\\lib\\site-packages\\tensorflow\\python\\ops\\gradients_impl.py:93: UserWarning: Converting sparse IndexedSlices to a dense Tensor of unknown shape. This may consume a large amount of memory.\n",
      "  \"Converting sparse IndexedSlices to a dense Tensor of unknown shape. \"\n"
     ]
    }
   ],
   "source": [
    "weights = tf.Variable(tf.truncated_normal([NUM_HIDDEN, LARGEST_SUM+1]))\n",
    "biases = tf.Variable(tf.constant(0.1, shape=[LARGEST_SUM+1]))\n",
    "prediction = RNN(weights,biases)\n",
    "\n",
    "cross_entropy = -tf.reduce_sum(target * tf.log(tf.clip_by_value(prediction,1e-10,1.0)))\n",
    "optimizer = tf.train.AdamOptimizer()\n",
    "minimize = optimizer.minimize(cross_entropy)\n",
    "\n",
    "mistakes = tf.not_equal(tf.argmax(target, 1), tf.argmax(prediction, 1))\n",
    "error = tf.reduce_mean(tf.cast(mistakes, tf.float32))"
   ]
  },
  {
   "cell_type": "code",
   "execution_count": 6,
   "metadata": {},
   "outputs": [
    {
     "name": "stdout",
     "output_type": "stream",
     "text": [
      "[1/3] Direct training...\n",
      "Progress: 0.0%\n",
      "Progress: 10.0%\n",
      "Progress: 20.0%\n",
      "Progress: 30.0%\n",
      "Progress: 40.0%\n",
      "Progress: 50.0%\n",
      "Progress: 60.0%\n",
      "Progress: 70.0%\n",
      "Progress: 80.0%\n",
      "Progress: 90.0%\n",
      "[2/3] Uniform sampling...\n",
      "Progress: 0.0%\n",
      "Progress: 10.0%\n",
      "Progress: 20.0%\n",
      "Progress: 30.0%\n",
      "Progress: 40.0%\n",
      "Progress: 50.0%\n",
      "Progress: 60.0%\n",
      "Progress: 70.0%\n",
      "Progress: 80.0%\n",
      "Progress: 90.0%\n",
      "[3/3] Curriculum learning...\n",
      "Progress: 0.0%\n",
      "Progress: 10.0%\n",
      "Progress: 20.0%\n",
      "Progress: 30.0%\n",
      "Progress: 40.0%\n",
      "Progress: 50.0%\n",
      "Progress: 60.0%\n",
      "Progress: 70.0%\n",
      "Progress: 80.0%\n",
      "Progress: 90.0%\n"
     ]
    }
   ],
   "source": [
    "init_op = tf.global_variables_initializer()\n",
    "batch_size = 10**2\n",
    "epoch_size = 10**4\n",
    "no_of_batches_in_epoch = int(epoch_size/batch_size)\n",
    "no_of_batches_in_total = int(NUM_TRAIN_EXAMPLES/batch_size)\n",
    "epoch = 100\n",
    "\n",
    "#Direct training \n",
    "print('[1/3] Direct training...')\n",
    "sess = tf.Session()\n",
    "sess.run(init_op)\n",
    "\n",
    "error_list_direct = []\n",
    "for i in range(epoch):\n",
    "    for j in range(no_of_batches_in_epoch):\n",
    "        ptr = randint(0,no_of_batches_in_total-1) * batch_size\n",
    "        inp, out = train_input[ptr:ptr+batch_size], train_output[ptr:ptr+batch_size]\n",
    "        sess.run(minimize,{data: inp, target: out})\n",
    "    error_list_direct.append(sess.run(error,{data: test_input, target: test_output}))\n",
    "    if i%(epoch/10) == 0:\n",
    "        print('Progress: %3.1f%%' % (100*i/(epoch*1.0)))\n",
    "sess.close()\n",
    "\n",
    "sess2 = tf.Session()\n",
    "sess2.run(init_op)\n",
    "\n",
    "#Uniform sampling\n",
    "print('[2/3] Uniform sampling...')\n",
    "error_list_uniform_sampling = []\n",
    "for i in range(epoch):\n",
    "    for j in range(no_of_batches_in_epoch):\n",
    "        ptr = randint(0,no_of_batches_in_total-1) * batch_size\n",
    "        task_index = randint(1,len(curriculum_input_list)) -1\n",
    "        inp, out = curriculum_input_list[task_index][ptr:ptr+batch_size], curriculum_output_list[task_index][ptr:ptr+batch_size]\n",
    "        sess2.run(minimize,{data: inp, target: out})\n",
    "    error_list_uniform_sampling.append(sess2.run(error,{data: test_input, target: test_output}))\n",
    "    if i%(epoch/10) == 0:\n",
    "        print('Progress: %3.1f%%' % (100*i/(epoch*1.0)))\n",
    "sess2.close()\n",
    "\n",
    "sess3 = tf.Session()\n",
    "sess3.run(init_op)\n",
    "\n",
    "#Threshold_based curriculum\n",
    "print('[3/3] Curriculum learning...')\n",
    "error_list_curriculum = []\n",
    "tol = 0.1\n",
    "task_index = 0\n",
    "for i in range(epoch):\n",
    "    error_on_current_task_list = []\n",
    "    for j in range(no_of_batches_in_epoch):        \n",
    "        ptr = randint(0,no_of_batches_in_total-1) * batch_size\n",
    "        inp, out = curriculum_input_list[task_index][ptr:ptr+batch_size], curriculum_output_list[task_index][ptr:ptr+batch_size]\n",
    "        sess3.run(minimize,{data: inp, target: out})\n",
    "    error_on_current_task = sess3.run(error,{data: curriculum_test_input_list[task_index], target: curriculum_test_output_list[task_index]})\n",
    "    if error_on_current_task < tol and task_index < INPUT_NUMBER_LENGTH-1:\n",
    "        task_index += 1\n",
    "    error_on_current_task_list.append(error_on_current_task)\n",
    "    error_list_curriculum.append(sess3.run(error,{data: test_input, target: test_output}))\n",
    "    if i%(epoch/10) == 0:\n",
    "        print('Progress: %3.1f%%' % (100*i/(epoch*1.0)))\n",
    "sess3.close()"
   ]
  },
  {
   "cell_type": "code",
   "execution_count": 8,
   "metadata": {},
   "outputs": [
    {
     "data": {
      "image/png": "[encoded data removed]",
      "text/plain": [
       "<matplotlib.figure.Figure at 0x14326748>"
      ]
     },
     "metadata": {},
     "output_type": "display_data"
    }
   ],
   "source": [
    "import matplotlib.pyplot as plt\n",
    "plt.plot(error_list_direct[:100],'b')\n",
    "plt.xlabel('Epoch')\n",
    "plt.ylabel('Error rate on test set')\n",
    "plt.plot(error_list_uniform_sampling[:100],'g')\n",
    "plt.plot(error_list_curriculum[:100],'r')\n",
    "plt.legend(['Direct training','Uniform sampling','Curriculum learning'])\n",
    "plt.show()"
   ]
  }
 ],
 "metadata": {
  "kernelspec": {
   "display_name": "Python 3",
   "language": "python",
   "name": "python3"
  },
  "language_info": {
   "codemirror_mode": {
    "name": "ipython",
    "version": 3
   },
   "file_extension": ".py",
   "mimetype": "text/x-python",
   "name": "python",
   "nbconvert_exporter": "python",
   "pygments_lexer": "ipython3",
   "version": "3.5.3"
  }
 },
 "nbformat": 4,
 "nbformat_minor": 2
}
